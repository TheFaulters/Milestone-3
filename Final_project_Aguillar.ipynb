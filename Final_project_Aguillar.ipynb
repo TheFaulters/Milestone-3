{
 "cells": [
  {
   "cell_type": "markdown",
   "metadata": {},
   "source": [
    "# Final Project\n",
    "## Data exploration\n",
    "### James Fallon"
   ]
  },
  {
   "cell_type": "code",
   "execution_count": 1,
   "metadata": {
    "collapsed": true
   },
   "outputs": [],
   "source": [
    "import pandas as pd\n",
    "import numpy as np\n",
    "import matplotlib\n",
    "import matplotlib.pyplot as plt\n",
    "import glob\n",
    "\n",
    "from IPython.core.interactiveshell import InteractiveShell\n",
    "InteractiveShell.ast_node_interactivity = \"all\""
   ]
  },
  {
   "cell_type": "code",
   "execution_count": 2,
   "metadata": {
    "collapsed": false
   },
   "outputs": [
    {
     "name": "stdout",
     "output_type": "stream",
     "text": [
      "IMPORT LOAN DATA\n",
      "\n",
      "files being imported:\n",
      "['./Data/LoanStats3a.csv.zip', './Data/LoanStats3b.csv.zip', './Data/LoanStats3c.csv.zip', './Data/LoanStats3d.csv.zip', './Data/LoanStats_2016Q1.csv.zip', './Data/LoanStats_2016Q2.csv.zip']\n",
      "\n"
     ]
    },
    {
     "name": "stderr",
     "output_type": "stream",
     "text": [
      "/Users/arthuraguillar/anaconda/lib/python2.7/site-packages/IPython/core/interactiveshell.py:2723: DtypeWarning: Columns (0,47) have mixed types. Specify dtype option on import or set low_memory=False.\n",
      "  interactivity=interactivity, compiler=compiler, result=result)\n"
     ]
    },
    {
     "name": "stdout",
     "output_type": "stream",
     "text": [
      "file 0 complete\n"
     ]
    },
    {
     "name": "stderr",
     "output_type": "stream",
     "text": [
      "/Users/arthuraguillar/anaconda/lib/python2.7/site-packages/IPython/core/interactiveshell.py:2723: DtypeWarning: Columns (0) have mixed types. Specify dtype option on import or set low_memory=False.\n",
      "  interactivity=interactivity, compiler=compiler, result=result)\n"
     ]
    },
    {
     "name": "stdout",
     "output_type": "stream",
     "text": [
      "file 1 complete\n"
     ]
    },
    {
     "name": "stderr",
     "output_type": "stream",
     "text": [
      "/Users/arthuraguillar/anaconda/lib/python2.7/site-packages/IPython/core/interactiveshell.py:2723: DtypeWarning: Columns (0,19) have mixed types. Specify dtype option on import or set low_memory=False.\n",
      "  interactivity=interactivity, compiler=compiler, result=result)\n"
     ]
    },
    {
     "name": "stdout",
     "output_type": "stream",
     "text": [
      "file 2 complete\n"
     ]
    },
    {
     "name": "stderr",
     "output_type": "stream",
     "text": [
      "/Users/arthuraguillar/anaconda/lib/python2.7/site-packages/IPython/core/interactiveshell.py:2723: DtypeWarning: Columns (0,19,55) have mixed types. Specify dtype option on import or set low_memory=False.\n",
      "  interactivity=interactivity, compiler=compiler, result=result)\n"
     ]
    },
    {
     "name": "stdout",
     "output_type": "stream",
     "text": [
      "file 3 complete\n",
      "file 4 complete\n",
      "file 5 complete\n"
     ]
    },
    {
     "data": {
      "text/plain": [
       "(1119194, 111)"
      ]
     },
     "execution_count": 2,
     "metadata": {},
     "output_type": "execute_result"
    },
    {
     "data": {
      "text/plain": [
       "array([    0,     1,     2, ..., 97853, 97854, 97855])"
      ]
     },
     "execution_count": 2,
     "metadata": {},
     "output_type": "execute_result"
    },
    {
     "data": {
      "text/html": [
       "<div>\n",
       "<table border=\"1\" class=\"dataframe\">\n",
       "  <thead>\n",
       "    <tr style=\"text-align: right;\">\n",
       "      <th></th>\n",
       "      <th>id</th>\n",
       "      <th>member_id</th>\n",
       "      <th>loan_amnt</th>\n",
       "      <th>funded_amnt</th>\n",
       "      <th>funded_amnt_inv</th>\n",
       "      <th>term</th>\n",
       "      <th>int_rate</th>\n",
       "      <th>installment</th>\n",
       "      <th>grade</th>\n",
       "      <th>sub_grade</th>\n",
       "      <th>...</th>\n",
       "      <th>num_tl_90g_dpd_24m</th>\n",
       "      <th>num_tl_op_past_12m</th>\n",
       "      <th>pct_tl_nvr_dlq</th>\n",
       "      <th>percent_bc_gt_75</th>\n",
       "      <th>pub_rec_bankruptcies</th>\n",
       "      <th>tax_liens</th>\n",
       "      <th>tot_hi_cred_lim</th>\n",
       "      <th>total_bal_ex_mort</th>\n",
       "      <th>total_bc_limit</th>\n",
       "      <th>total_il_high_credit_limit</th>\n",
       "    </tr>\n",
       "  </thead>\n",
       "  <tbody>\n",
       "    <tr>\n",
       "      <th>0</th>\n",
       "      <td>1077501</td>\n",
       "      <td>1296599.0</td>\n",
       "      <td>5000.0</td>\n",
       "      <td>5000.0</td>\n",
       "      <td>4975.0</td>\n",
       "      <td>36 months</td>\n",
       "      <td>10.65%</td>\n",
       "      <td>162.87</td>\n",
       "      <td>B</td>\n",
       "      <td>B2</td>\n",
       "      <td>...</td>\n",
       "      <td>NaN</td>\n",
       "      <td>NaN</td>\n",
       "      <td>NaN</td>\n",
       "      <td>NaN</td>\n",
       "      <td>0.0</td>\n",
       "      <td>0.0</td>\n",
       "      <td>NaN</td>\n",
       "      <td>NaN</td>\n",
       "      <td>NaN</td>\n",
       "      <td>NaN</td>\n",
       "    </tr>\n",
       "    <tr>\n",
       "      <th>1</th>\n",
       "      <td>1077430</td>\n",
       "      <td>1314167.0</td>\n",
       "      <td>2500.0</td>\n",
       "      <td>2500.0</td>\n",
       "      <td>2500.0</td>\n",
       "      <td>60 months</td>\n",
       "      <td>15.27%</td>\n",
       "      <td>59.83</td>\n",
       "      <td>C</td>\n",
       "      <td>C4</td>\n",
       "      <td>...</td>\n",
       "      <td>NaN</td>\n",
       "      <td>NaN</td>\n",
       "      <td>NaN</td>\n",
       "      <td>NaN</td>\n",
       "      <td>0.0</td>\n",
       "      <td>0.0</td>\n",
       "      <td>NaN</td>\n",
       "      <td>NaN</td>\n",
       "      <td>NaN</td>\n",
       "      <td>NaN</td>\n",
       "    </tr>\n",
       "    <tr>\n",
       "      <th>2</th>\n",
       "      <td>1077175</td>\n",
       "      <td>1313524.0</td>\n",
       "      <td>2400.0</td>\n",
       "      <td>2400.0</td>\n",
       "      <td>2400.0</td>\n",
       "      <td>36 months</td>\n",
       "      <td>15.96%</td>\n",
       "      <td>84.33</td>\n",
       "      <td>C</td>\n",
       "      <td>C5</td>\n",
       "      <td>...</td>\n",
       "      <td>NaN</td>\n",
       "      <td>NaN</td>\n",
       "      <td>NaN</td>\n",
       "      <td>NaN</td>\n",
       "      <td>0.0</td>\n",
       "      <td>0.0</td>\n",
       "      <td>NaN</td>\n",
       "      <td>NaN</td>\n",
       "      <td>NaN</td>\n",
       "      <td>NaN</td>\n",
       "    </tr>\n",
       "    <tr>\n",
       "      <th>3</th>\n",
       "      <td>1076863</td>\n",
       "      <td>1277178.0</td>\n",
       "      <td>10000.0</td>\n",
       "      <td>10000.0</td>\n",
       "      <td>10000.0</td>\n",
       "      <td>36 months</td>\n",
       "      <td>13.49%</td>\n",
       "      <td>339.31</td>\n",
       "      <td>C</td>\n",
       "      <td>C1</td>\n",
       "      <td>...</td>\n",
       "      <td>NaN</td>\n",
       "      <td>NaN</td>\n",
       "      <td>NaN</td>\n",
       "      <td>NaN</td>\n",
       "      <td>0.0</td>\n",
       "      <td>0.0</td>\n",
       "      <td>NaN</td>\n",
       "      <td>NaN</td>\n",
       "      <td>NaN</td>\n",
       "      <td>NaN</td>\n",
       "    </tr>\n",
       "    <tr>\n",
       "      <th>4</th>\n",
       "      <td>1075358</td>\n",
       "      <td>1311748.0</td>\n",
       "      <td>3000.0</td>\n",
       "      <td>3000.0</td>\n",
       "      <td>3000.0</td>\n",
       "      <td>60 months</td>\n",
       "      <td>12.69%</td>\n",
       "      <td>67.79</td>\n",
       "      <td>B</td>\n",
       "      <td>B5</td>\n",
       "      <td>...</td>\n",
       "      <td>NaN</td>\n",
       "      <td>NaN</td>\n",
       "      <td>NaN</td>\n",
       "      <td>NaN</td>\n",
       "      <td>0.0</td>\n",
       "      <td>0.0</td>\n",
       "      <td>NaN</td>\n",
       "      <td>NaN</td>\n",
       "      <td>NaN</td>\n",
       "      <td>NaN</td>\n",
       "    </tr>\n",
       "  </tbody>\n",
       "</table>\n",
       "<p>5 rows × 111 columns</p>\n",
       "</div>"
      ],
      "text/plain": [
       "        id  member_id  loan_amnt  funded_amnt  funded_amnt_inv        term  \\\n",
       "0  1077501  1296599.0     5000.0       5000.0           4975.0   36 months   \n",
       "1  1077430  1314167.0     2500.0       2500.0           2500.0   60 months   \n",
       "2  1077175  1313524.0     2400.0       2400.0           2400.0   36 months   \n",
       "3  1076863  1277178.0    10000.0      10000.0          10000.0   36 months   \n",
       "4  1075358  1311748.0     3000.0       3000.0           3000.0   60 months   \n",
       "\n",
       "  int_rate  installment grade sub_grade            ...              \\\n",
       "0   10.65%       162.87     B        B2            ...               \n",
       "1   15.27%        59.83     C        C4            ...               \n",
       "2   15.96%        84.33     C        C5            ...               \n",
       "3   13.49%       339.31     C        C1            ...               \n",
       "4   12.69%        67.79     B        B5            ...               \n",
       "\n",
       "  num_tl_90g_dpd_24m num_tl_op_past_12m pct_tl_nvr_dlq  percent_bc_gt_75  \\\n",
       "0                NaN                NaN            NaN               NaN   \n",
       "1                NaN                NaN            NaN               NaN   \n",
       "2                NaN                NaN            NaN               NaN   \n",
       "3                NaN                NaN            NaN               NaN   \n",
       "4                NaN                NaN            NaN               NaN   \n",
       "\n",
       "  pub_rec_bankruptcies tax_liens tot_hi_cred_lim total_bal_ex_mort  \\\n",
       "0                  0.0       0.0             NaN               NaN   \n",
       "1                  0.0       0.0             NaN               NaN   \n",
       "2                  0.0       0.0             NaN               NaN   \n",
       "3                  0.0       0.0             NaN               NaN   \n",
       "4                  0.0       0.0             NaN               NaN   \n",
       "\n",
       "  total_bc_limit total_il_high_credit_limit  \n",
       "0            NaN                        NaN  \n",
       "1            NaN                        NaN  \n",
       "2            NaN                        NaN  \n",
       "3            NaN                        NaN  \n",
       "4            NaN                        NaN  \n",
       "\n",
       "[5 rows x 111 columns]"
      ]
     },
     "execution_count": 2,
     "metadata": {},
     "output_type": "execute_result"
    }
   ],
   "source": [
    "files = glob.glob('./Data/LoanStats3[a-d].csv.zip')\n",
    "files2 = glob.glob('./Data/LoanStats_2016Q[1-2].csv.zip')\n",
    "files = files + files2\n",
    "\n",
    "print 'IMPORT LOAN DATA\\n'\n",
    "print 'files being imported:\\n' + str(files) +'\\n'\n",
    "\n",
    "#keep track of concatenation\n",
    "i = 0\n",
    "\n",
    "#start with the first file\n",
    "data = pd.read_csv(files[0], header = 1, compression = 'zip')\n",
    "print 'file ' + str(i) + ' complete'\n",
    "\n",
    "#loop through remaining files\n",
    "for file in files[1:len(files)]:\n",
    "    \n",
    "    data = pd.concat((data, pd.read_csv(file, header = 1, compression = 'zip')), axis = 0)\n",
    "    \n",
    "    #keep track of loading process\n",
    "    i+=1\n",
    "    print 'file ' + str(i) + ' complete'\n",
    "    \n",
    "    if i == len(files):\n",
    "        print 'import complete'\n",
    "\n",
    "#sense check shape, size etc. of dataset\n",
    "np.shape(data)\n",
    "variables = pd.DataFrame(data.columns.values)\n",
    "data.index.values\n",
    "data.head(n=5)\n",
    "\n",
    "data = data.sample(frac=0.03, replace=False)"
   ]
  },
  {
   "cell_type": "code",
   "execution_count": null,
   "metadata": {
    "collapsed": false
   },
   "outputs": [],
   "source": []
  },
  {
   "cell_type": "code",
   "execution_count": 3,
   "metadata": {
    "collapsed": false
   },
   "outputs": [
    {
     "name": "stdout",
     "output_type": "stream",
     "text": [
      "IMPORT DECLINED LOAN DATA\n",
      "\n",
      "files being imported:\n",
      "['./Data/RejectStatsB.csv.zip', './Data/RejectStatsD.csv.zip', './Data/RejectStats_2016Q1.csv.zip', './Data/RejectStats_2016Q2.csv.zip']\n",
      "\n",
      "file 0 complete\n",
      "file 1 complete\n",
      "file 2 complete\n",
      "file 3 complete\n"
     ]
    },
    {
     "data": {
      "text/plain": [
       "(7645772, 9)"
      ]
     },
     "execution_count": 3,
     "metadata": {},
     "output_type": "execute_result"
    },
    {
     "data": {
      "text/plain": [
       "array([     0,      1,      2, ..., 996359, 996360, 996361])"
      ]
     },
     "execution_count": 3,
     "metadata": {},
     "output_type": "execute_result"
    },
    {
     "data": {
      "text/html": [
       "<div>\n",
       "<table border=\"1\" class=\"dataframe\">\n",
       "  <thead>\n",
       "    <tr style=\"text-align: right;\">\n",
       "      <th></th>\n",
       "      <th>Amount Requested</th>\n",
       "      <th>Application Date</th>\n",
       "      <th>Loan Title</th>\n",
       "      <th>Risk_Score</th>\n",
       "      <th>Debt-To-Income Ratio</th>\n",
       "      <th>Zip Code</th>\n",
       "      <th>State</th>\n",
       "      <th>Employment Length</th>\n",
       "      <th>Policy Code</th>\n",
       "    </tr>\n",
       "  </thead>\n",
       "  <tbody>\n",
       "    <tr>\n",
       "      <th>0</th>\n",
       "      <td>30000.0</td>\n",
       "      <td>2013-01-01</td>\n",
       "      <td>debt_consolidation</td>\n",
       "      <td>754.0</td>\n",
       "      <td>32.01%</td>\n",
       "      <td>559xx</td>\n",
       "      <td>MN</td>\n",
       "      <td>&lt; 1 year</td>\n",
       "      <td>0.0</td>\n",
       "    </tr>\n",
       "    <tr>\n",
       "      <th>1</th>\n",
       "      <td>15000.0</td>\n",
       "      <td>2013-01-01</td>\n",
       "      <td>medical</td>\n",
       "      <td>728.0</td>\n",
       "      <td>27.01%</td>\n",
       "      <td>945xx</td>\n",
       "      <td>CA</td>\n",
       "      <td>&lt; 1 year</td>\n",
       "      <td>0.0</td>\n",
       "    </tr>\n",
       "    <tr>\n",
       "      <th>2</th>\n",
       "      <td>2500.0</td>\n",
       "      <td>2013-01-01</td>\n",
       "      <td>other</td>\n",
       "      <td>723.0</td>\n",
       "      <td>0.92%</td>\n",
       "      <td>190xx</td>\n",
       "      <td>PA</td>\n",
       "      <td>7 years</td>\n",
       "      <td>0.0</td>\n",
       "    </tr>\n",
       "    <tr>\n",
       "      <th>3</th>\n",
       "      <td>4000.0</td>\n",
       "      <td>2013-01-01</td>\n",
       "      <td>car</td>\n",
       "      <td>563.0</td>\n",
       "      <td>24.92%</td>\n",
       "      <td>296xx</td>\n",
       "      <td>SC</td>\n",
       "      <td>&lt; 1 year</td>\n",
       "      <td>0.0</td>\n",
       "    </tr>\n",
       "    <tr>\n",
       "      <th>4</th>\n",
       "      <td>22000.0</td>\n",
       "      <td>2013-01-01</td>\n",
       "      <td>debt_consolidation</td>\n",
       "      <td>0.0</td>\n",
       "      <td>26.91%</td>\n",
       "      <td>735xx</td>\n",
       "      <td>OK</td>\n",
       "      <td>&lt; 1 year</td>\n",
       "      <td>0.0</td>\n",
       "    </tr>\n",
       "  </tbody>\n",
       "</table>\n",
       "</div>"
      ],
      "text/plain": [
       "   Amount Requested Application Date          Loan Title  Risk_Score  \\\n",
       "0           30000.0       2013-01-01  debt_consolidation       754.0   \n",
       "1           15000.0       2013-01-01             medical       728.0   \n",
       "2            2500.0       2013-01-01               other       723.0   \n",
       "3            4000.0       2013-01-01                 car       563.0   \n",
       "4           22000.0       2013-01-01  debt_consolidation         0.0   \n",
       "\n",
       "  Debt-To-Income Ratio Zip Code State Employment Length  Policy Code  \n",
       "0               32.01%    559xx    MN          < 1 year          0.0  \n",
       "1               27.01%    945xx    CA          < 1 year          0.0  \n",
       "2                0.92%    190xx    PA           7 years          0.0  \n",
       "3               24.92%    296xx    SC          < 1 year          0.0  \n",
       "4               26.91%    735xx    OK          < 1 year          0.0  "
      ]
     },
     "execution_count": 3,
     "metadata": {},
     "output_type": "execute_result"
    }
   ],
   "source": [
    "#import declined loan data\n",
    "\n",
    "files = ['./Data/RejectStatsB.csv.zip', './Data/RejectStatsD.csv.zip']\n",
    "files2 = glob.glob('./Data/RejectStats_2016Q[1-2].csv.zip')\n",
    "files = files + files2\n",
    "\n",
    "print 'IMPORT DECLINED LOAN DATA\\n'\n",
    "print 'files being imported:\\n' + str(files) +'\\n'\n",
    "\n",
    "#keep track of concatenation\n",
    "i = 0\n",
    "\n",
    "#start with the first file\n",
    "dec_data = pd.read_csv(files[0],  skiprows = 1, compression = 'zip')\n",
    "print 'file ' + str(i) + ' complete'\n",
    "\n",
    "#loop through remaining files\n",
    "for file in files[1:len(files)]:\n",
    "    \n",
    "    dec_data = pd.concat((dec_data, pd.read_csv(file, skiprows = 1, compression = 'zip')), axis = 0)\n",
    "    \n",
    "    #keep track of loading process\n",
    "    i+=1\n",
    "    print 'file ' + str(i) + ' complete'\n",
    "    \n",
    "    if i == len(files):\n",
    "        print 'import complete'\n",
    "\n",
    "#sense check shape, size etc. of dataset\n",
    "np.shape(dec_data)\n",
    "dec_variables = pd.DataFrame(dec_data.columns.values)\n",
    "dec_data.index.values\n",
    "dec_data.head(n=5)\n",
    "\n",
    "dec_data2 = dec_data.sample(frac=0.01, replace=True)\n",
    "\n",
    "\n",
    "#dec_data2['dti'] = dec_data2['Debt-To-Income Ratio']\n",
    "#dec_data2 = df.rename(columns={'$Debt-To-Income Ratio': 'dti'} , inplace=True)"
   ]
  },
  {
   "cell_type": "code",
   "execution_count": 4,
   "metadata": {
    "collapsed": false
   },
   "outputs": [
    {
     "data": {
      "text/html": [
       "<div>\n",
       "<table border=\"1\" class=\"dataframe\">\n",
       "  <thead>\n",
       "    <tr style=\"text-align: right;\">\n",
       "      <th></th>\n",
       "      <th>dti</th>\n",
       "      <th>loan_status</th>\n",
       "    </tr>\n",
       "  </thead>\n",
       "  <tbody>\n",
       "    <tr>\n",
       "      <th>207238</th>\n",
       "      <td>9.32%</td>\n",
       "      <td>0</td>\n",
       "    </tr>\n",
       "    <tr>\n",
       "      <th>335036</th>\n",
       "      <td>-1%</td>\n",
       "      <td>0</td>\n",
       "    </tr>\n",
       "    <tr>\n",
       "      <th>202118</th>\n",
       "      <td>17.18%</td>\n",
       "      <td>0</td>\n",
       "    </tr>\n",
       "    <tr>\n",
       "      <th>968698</th>\n",
       "      <td>10.45%</td>\n",
       "      <td>0</td>\n",
       "    </tr>\n",
       "    <tr>\n",
       "      <th>1509559</th>\n",
       "      <td>25.11%</td>\n",
       "      <td>0</td>\n",
       "    </tr>\n",
       "  </tbody>\n",
       "</table>\n",
       "</div>"
      ],
      "text/plain": [
       "            dti  loan_status\n",
       "207238    9.32%            0\n",
       "335036      -1%            0\n",
       "202118   17.18%            0\n",
       "968698   10.45%            0\n",
       "1509559  25.11%            0"
      ]
     },
     "execution_count": 4,
     "metadata": {},
     "output_type": "execute_result"
    }
   ],
   "source": [
    "dec_data2['loan_status'] = 0\n",
    "dec_data2 = dec_data2[[\"Debt-To-Income Ratio\" , \"loan_status\"]]\n",
    "dec_data2 = dec_data2.rename(columns = {\"Debt-To-Income Ratio\" :\"dti\"})\n",
    "dec_data2.head(5)\n"
   ]
  },
  {
   "cell_type": "code",
   "execution_count": 5,
   "metadata": {
    "collapsed": false
   },
   "outputs": [],
   "source": [
    "#########################################################################################\n",
    "# Chart: Conf intervals of groups Active, default, fully paid over debt to risk ratio\n",
    "#########################################################################################\n",
    "data = data[[\"dti\",\"loan_status\"]]\n",
    "# This part is not working anymore for some reason #\n",
    "data['loan_status'].replace(to_replace = [\"Fully Paid\", \"Charged Off\", \"Default\", \"Late (31-120 days)\", \"Current\", \n",
    "           \"In Grace Period\",\n",
    "          \"Late (16-30 days)\",\n",
    "          \"Does not meet the credit policy. Status:Fully Paid\",\n",
    "           \"Does not meet the credit policy. Status:Charged Off\"], value = [\"2\",\"0\",\"0\",\"1\",\"1\",'1','1','2','0'], inplace=True)\n",
    "\n",
    "\n",
    "\n",
    "\n",
    "\n",
    "##categorizing different statuses\n",
    "#data['loan_status'].replace(to_replace = [\"Fully Paid\", \"Charged Off\", \"Default\", \"Late (31-120 days)\", \"Current\",  \"In Grace Period\", \"Late (16-30 days)\",\"Does not meet the credit policy. Status:Fully Paid\",\"Does not meet the credit policy. Status:Charged Off\"], value = [2,0,0,1,1,1,1,2,0], inplace=True)\n",
    "\n",
    "\n",
    "\n",
    "\n",
    "#data['loan_status'].replace([\"Fully Paid\", \"Charged Off\", \"Default\", \"Late (31-120 days)\", \"Current\", \n",
    "#          \"In Grace Period\",\n",
    "#         \"Late (16-30 days)\",\n",
    "#         \"Does not meet the credit policy. Status:Fully Paid\",\n",
    "#          \"Does not meet the credit policy. Status:Charged Off\"], [2,0,0,1,1,1,1,2,0])\n",
    "##generating new frequency table\n",
    "counts_status = data['loan_status'].value_counts()\n",
    "\n",
    "#data['dti'] = data['dti'].replace('%','',regex=True).astype('float')\n"
   ]
  },
  {
   "cell_type": "code",
   "execution_count": 6,
   "metadata": {
    "collapsed": false
   },
   "outputs": [],
   "source": [
    "#data.head(5)   \n",
    "#defaults1 = data[data['loan_status'] == 1]\n"
   ]
  },
  {
   "cell_type": "code",
   "execution_count": 7,
   "metadata": {
    "collapsed": false
   },
   "outputs": [],
   "source": [
    "\n",
    "\n",
    "\n",
    "\n",
    "#defaults = [defaults0 defaults1 defaults2]\n",
    "#for i in 0, 1, 2:\n",
    "#    defaults[i] = defaults[i].drop('loan_status', 1)\n",
    "#    defaults[i] = defaults[i].as_matrix()\n",
    "#    np.mean(defaults[i])\n",
    "#    numpy.std(defaults[i])\n",
    "\n",
    "\n",
    "#defaults_0 = pd.concat((defaults_0, dec_data2), axis = 0)\n",
    "\n",
    "### Splitting sets ###\n",
    "#defaults_0.head(5)"
   ]
  },
  {
   "cell_type": "code",
   "execution_count": null,
   "metadata": {
    "collapsed": false
   },
   "outputs": [],
   "source": []
  },
  {
   "cell_type": "code",
   "execution_count": 8,
   "metadata": {
    "collapsed": false
   },
   "outputs": [],
   "source": [
    "defaults0 = data[data['loan_status'] == \"0\"]\n",
    "defaults0 = defaults0['dti']\n",
    "\n",
    "defaults1 = data[data['loan_status'] == \"1\"]\n",
    "defaults1 = defaults1['dti']\n",
    "\n",
    "defaults2 = data[data['loan_status'] == \"2\"]\n",
    "defaults2 = defaults2['dti']\n",
    "\n",
    "dec_data2['loan_status'] = \"0\"\n",
    "defaults3 = dec_data2['dti']\n",
    "\n",
    "\n",
    "\n"
   ]
  },
  {
   "cell_type": "code",
   "execution_count": 9,
   "metadata": {
    "collapsed": false
   },
   "outputs": [
    {
     "data": {
      "text/plain": [
       "19.299052074857592"
      ]
     },
     "execution_count": 9,
     "metadata": {},
     "output_type": "execute_result"
    },
    {
     "data": {
      "text/plain": [
       "8.257257051588173"
      ]
     },
     "execution_count": 9,
     "metadata": {},
     "output_type": "execute_result"
    },
    {
     "data": {
      "text/plain": [
       "19.06066214251096"
      ]
     },
     "execution_count": 9,
     "metadata": {},
     "output_type": "execute_result"
    },
    {
     "data": {
      "text/plain": [
       "9.28914354669353"
      ]
     },
     "execution_count": 9,
     "metadata": {},
     "output_type": "execute_result"
    },
    {
     "data": {
      "text/plain": [
       "16.738273264683464"
      ]
     },
     "execution_count": 9,
     "metadata": {},
     "output_type": "execute_result"
    },
    {
     "data": {
      "text/plain": [
       "7.797755465287257"
      ]
     },
     "execution_count": 9,
     "metadata": {},
     "output_type": "execute_result"
    },
    {
     "data": {
      "text/plain": [
       "161.3385197101668"
      ]
     },
     "execution_count": 9,
     "metadata": {},
     "output_type": "execute_result"
    },
    {
     "data": {
      "text/plain": [
       "5470.863829130182"
      ]
     },
     "execution_count": 9,
     "metadata": {},
     "output_type": "execute_result"
    }
   ],
   "source": [
    "\n",
    "defaults0 = defaults0.replace('%','',regex=True).astype('float')\n",
    "defaults1 = defaults1.replace('%','',regex=True).astype('float')\n",
    "defaults2 = defaults2.replace('%','',regex=True).astype('float')\n",
    "defaults3 = defaults3.replace('%','',regex=True).astype('float')\n",
    "defaults3 = defaults3.replace('%','',regex=True).astype('float')\n",
    "    \n",
    "            \n",
    "#defaults3 = defaults3[(defaults3 != 99999 ) & (defaults3 != 9999)]\n",
    "#defaults3 = defaults3[(defaults3 != 99999 )]\n",
    "#defaults1['dti'] = defaults1['dti'].replace('%','',regex=True).astype('float')\n",
    "#defaults2['dti'] = defaults2['dti'].replace('%','',regex=True).astype('float')\n",
    "#defaults3['dti'] = defaults3['dti'].replace('%','',regex=True).astype('float')\n",
    "\n",
    "#defaults0  = defaults0.as_matrix()\n",
    "#defaults1  = defaults1.as_matrix()\n",
    "#defaults1 = defaults1.astype(float) \n",
    "\n",
    "#defaults2  = defaults2.as_matrix()\n",
    "#defaults3  = defaults3.as_matrix()\n",
    "#defaults1 = scipy.delete(defaults1, 1, 0) \n",
    "a = np.mean(defaults0)\n",
    "b = np.std(defaults0)\n",
    "c = np.mean(defaults1)\n",
    "d = np.std(defaults1)\n",
    "e = np.mean(defaults2)\n",
    "f = np.std(defaults2)\n",
    "g = np.mean(defaults3)\n",
    "h = np.std(defaults3)\n",
    "\n",
    "#e = np.mean(defaults2)\n",
    "#f = np.std(defaults2)\n",
    "# Perform tabulations\n",
    "\n",
    "means = [a, c, e]\n",
    "sd_list = [b, d, f]\n",
    "indexes = [5, 10 , 15]\n",
    "a\n",
    "b\n",
    "c\n",
    "d\n",
    "e\n",
    "f\n",
    "g\n",
    "h\n"
   ]
  },
  {
   "cell_type": "code",
   "execution_count": null,
   "metadata": {
    "collapsed": false
   },
   "outputs": [
    {
     "data": {
      "text/plain": [
       "<Container object of 3 artists>"
      ]
     },
     "execution_count": 32,
     "metadata": {},
     "output_type": "execute_result"
    },
    {
     "data": {
      "text/plain": [
       "<Container object of 3 artists>"
      ]
     },
     "execution_count": 32,
     "metadata": {},
     "output_type": "execute_result"
    },
    {
     "data": {
      "text/plain": [
       "<Container object of 3 artists>"
      ]
     },
     "execution_count": 32,
     "metadata": {},
     "output_type": "execute_result"
    },
    {
     "data": {
      "text/plain": [
       "<matplotlib.text.Text at 0x1560f4f10>"
      ]
     },
     "execution_count": 32,
     "metadata": {},
     "output_type": "execute_result"
    },
    {
     "data": {
      "text/plain": [
       "<matplotlib.text.Text at 0x1560ded10>"
      ]
     },
     "execution_count": 32,
     "metadata": {},
     "output_type": "execute_result"
    },
    {
     "data": {
      "text/plain": [
       "<matplotlib.text.Text at 0x128139890>"
      ]
     },
     "execution_count": 32,
     "metadata": {},
     "output_type": "execute_result"
    },
    {
     "data": {
      "text/plain": [
       "<matplotlib.legend.Legend at 0x1563624d0>"
      ]
     },
     "execution_count": 32,
     "metadata": {},
     "output_type": "execute_result"
    }
   ],
   "source": [
    "fig = plt.figure(figsize=(10, 10))\n",
    "ax1 = fig.add_subplot(1, 1, 1  )\n",
    "ax1.errorbar( 5,a, yerr=b, fmt = 'o', color = 'g', label='Defaults')\n",
    "ax1.errorbar( 10,c, yerr=d, fmt = 'o', color = 'b', label='Active')\n",
    "ax1.errorbar( 15,e, yerr=f, fmt = 'o', color = 'y', label='Fully paid')\n",
    "ax1.set_xlabel('Client category')\n",
    "ax1.set_ylabel('Debt to income ratio')\n",
    "ax1.set_title('95% confidence intervals over debt income ratio for default, active and fully paid loans  ')\n",
    "ax1.legend()\n",
    "plt.tight_layout()\n",
    "plt.show()\n",
    "\n",
    "#ax1.set_yscale('log')\n",
    "\n",
    "plt.show() "
   ]
  },
  {
   "cell_type": "code",
   "execution_count": null,
   "metadata": {
    "collapsed": true
   },
   "outputs": [],
   "source": []
  }
 ],
 "metadata": {
  "anaconda-cloud": {},
  "kernelspec": {
   "display_name": "Python [Root]",
   "language": "python",
   "name": "Python [Root]"
  },
  "language_info": {
   "codemirror_mode": {
    "name": "ipython",
    "version": 2
   },
   "file_extension": ".py",
   "mimetype": "text/x-python",
   "name": "python",
   "nbconvert_exporter": "python",
   "pygments_lexer": "ipython2",
   "version": "2.7.12"
  }
 },
 "nbformat": 4,
 "nbformat_minor": 0
}
